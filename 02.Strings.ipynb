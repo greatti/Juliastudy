{
  "cells": [
    {
      "cell_type": "markdown",
      "source": [
        "# Strings\n",
        "\n",
        "Topics:\n",
        "1. How to get a string\n",
        "2. String interpolation\n",
        "3. String concatenation"
      ],
      "metadata": {}
    },
    {
      "cell_type": "markdown",
      "source": [
        "## How to get a string\n",
        "\n",
        "Enclose your characters in \" \" or \"\"\" \"\"\"!"
      ],
      "metadata": {}
    },
    {
      "cell_type": "code",
      "source": [
        "s1 = \"I am a string.\""
      ],
      "outputs": [
        {
          "output_type": "execute_result",
          "execution_count": 1,
          "data": {
            "text/plain": "\"I am a string.\""
          },
          "metadata": {}
        }
      ],
      "execution_count": 1,
      "metadata": {
        "execution": {
          "iopub.status.busy": "2021-04-01T11:51:10.377Z",
          "iopub.execute_input": "2021-04-01T11:51:11.913Z",
          "iopub.status.idle": "2021-04-01T11:51:13.327Z"
        }
      }
    },
    {
      "cell_type": "code",
      "source": [
        "s2 = \"\"\"I am also a string. \"\"\""
      ],
      "outputs": [
        {
          "output_type": "execute_result",
          "execution_count": 2,
          "data": {
            "text/plain": "\"I am also a string. \""
          },
          "metadata": {}
        }
      ],
      "execution_count": 2,
      "metadata": {
        "execution": {
          "iopub.status.busy": "2021-04-01T11:51:13.354Z",
          "iopub.execute_input": "2021-04-01T11:51:13.371Z",
          "iopub.status.idle": "2021-04-01T11:51:13.403Z"
        }
      }
    },
    {
      "cell_type": "markdown",
      "source": [
        "There are a couple functional differences between strings enclosed in single and triple quotes. <br>\n",
        "One difference is that, in the latter case, you can use quotation marks within your string."
      ],
      "metadata": {}
    },
    {
      "cell_type": "code",
      "source": [
        "\"Here, we get an \"error\" because it's ambiguous where this string ends \""
      ],
      "outputs": [
        {
          "output_type": "error",
          "ename": "LoadError",
          "evalue": "syntax: cannot juxtapose string literal",
          "traceback": [
            "syntax: cannot juxtapose string literal",
            ""
          ]
        }
      ],
      "execution_count": 3,
      "metadata": {
        "execution": {
          "iopub.status.busy": "2021-04-01T11:51:13.424Z",
          "iopub.execute_input": "2021-04-01T11:51:13.437Z"
        }
      }
    },
    {
      "cell_type": "code",
      "source": [
        "\"\"\"Look, Mom, no \"errors\"!!! \"\"\""
      ],
      "outputs": [
        {
          "output_type": "execute_result",
          "execution_count": 15,
          "data": {
            "text/plain": "\"Look, Mom, no \\\"errors\\\"!!! \""
          },
          "metadata": {}
        }
      ],
      "execution_count": 15,
      "metadata": {
        "execution": {
          "iopub.status.busy": "2021-04-01T11:51:46.392Z",
          "iopub.execute_input": "2021-04-01T11:51:46.405Z",
          "iopub.status.idle": "2021-04-01T11:51:46.440Z"
        }
      }
    },
    {
      "cell_type": "markdown",
      "source": [
        "Note that ' ' define a character, but NOT a string!"
      ],
      "metadata": {}
    },
    {
      "cell_type": "code",
      "source": [
        "typeof('a')"
      ],
      "outputs": [
        {
          "output_type": "execute_result",
          "execution_count": 16,
          "data": {
            "text/plain": "Char"
          },
          "metadata": {}
        }
      ],
      "execution_count": 16,
      "metadata": {
        "execution": {
          "iopub.status.busy": "2021-04-01T11:52:04.577Z",
          "iopub.execute_input": "2021-04-01T11:52:04.592Z",
          "iopub.status.idle": "2021-04-01T11:52:04.623Z"
        }
      }
    },
    {
      "cell_type": "code",
      "source": [
        "'We will get an error here'"
      ],
      "outputs": [
        {
          "output_type": "error",
          "ename": "LoadError",
          "evalue": "syntax: invalid character literal",
          "traceback": [
            "syntax: invalid character literal",
            ""
          ]
        }
      ],
      "execution_count": 17,
      "metadata": {
        "execution": {
          "iopub.status.busy": "2021-04-01T11:52:12.758Z",
          "iopub.execute_input": "2021-04-01T11:52:12.772Z"
        }
      }
    },
    {
      "cell_type": "markdown",
      "source": [
        "## String interpolation\n",
        "\n",
        "We can use the $ sign to insert existing variables into a string and to evaluate expressions within a string. <br>\n",
        "Below is an example that contains some highly sensitive personal information."
      ],
      "metadata": {}
    },
    {
      "cell_type": "code",
      "source": [
        "name = \"Jane\"\n",
        "num_fingers = 10\n",
        "num_toes = 10"
      ],
      "outputs": [
        {
          "output_type": "execute_result",
          "execution_count": 18,
          "data": {
            "text/plain": "10"
          },
          "metadata": {}
        }
      ],
      "execution_count": 18,
      "metadata": {
        "execution": {
          "iopub.status.busy": "2021-04-01T11:54:20.502Z",
          "iopub.execute_input": "2021-04-01T11:54:20.517Z",
          "iopub.status.idle": "2021-04-01T11:54:20.538Z"
        }
      }
    },
    {
      "cell_type": "code",
      "source": [
        "println(\"Hello, my name is $name.\")\n",
        "println(\"I have $num_fingers fingers and $num_toes toes.\")\n",
        " println(\"That is $(num_fingers + num_toes) digits in all!!\")\n",
        "# ## String concatenation"
      ],
      "outputs": [
        {
          "output_type": "stream",
          "name": "stdout",
          "text": [
            "Hello, my name is Jane.\n",
            "I have 10 fingers and 10 toes.\n",
            "That is 20 digits in all!!\n"
          ]
        }
      ],
      "execution_count": 19,
      "metadata": {
        "execution": {
          "iopub.status.busy": "2021-04-01T11:54:26.738Z",
          "iopub.execute_input": "2021-04-01T11:54:26.748Z",
          "iopub.status.idle": "2021-04-01T11:54:26.847Z"
        }
      }
    },
    {
      "cell_type": "code",
      "source": [
        "# Below are three ways we can concatenate strings! <br><br>\n",
        "# The first way is to use the `string()` function. <br>\n",
        "# `string()` converts non-string inputs to strings.\n",
        "s3 = \"How many cats \";\n",
        "s4 = \"is too many cats?\";\n",
        "😺 = 10"
      ],
      "outputs": [],
      "execution_count": null,
      "metadata": {}
    },
    {
      "cell_type": "code",
      "source": [
        "string(s3, s4)"
      ],
      "outputs": [],
      "execution_count": null,
      "metadata": {}
    },
    {
      "cell_type": "code",
      "source": [
        "string(\"I don't know, but \", 😺, \" is too few.\")"
      ],
      "outputs": [
        {
          "output_type": "execute_result",
          "execution_count": 20,
          "data": {
            "text/plain": "\"I don't know, but 10 is too few.\""
          },
          "metadata": {}
        }
      ],
      "execution_count": 20,
      "metadata": {
        "execution": {
          "iopub.status.busy": "2021-04-01T11:55:39.664Z",
          "iopub.execute_input": "2021-04-01T11:55:39.676Z",
          "iopub.status.idle": "2021-04-01T11:55:39.697Z"
        }
      }
    },
    {
      "cell_type": "markdown",
      "source": [
        "We can also use `*` for concatenation!"
      ],
      "metadata": {}
    },
    {
      "cell_type": "code",
      "source": [
        "s3*s4"
      ],
      "outputs": [
        {
          "output_type": "execute_result",
          "execution_count": 21,
          "data": {
            "text/plain": "\"How many cats is too many cats?\""
          },
          "metadata": {}
        }
      ],
      "execution_count": 21,
      "metadata": {
        "execution": {
          "iopub.status.busy": "2021-04-01T11:55:49.040Z",
          "iopub.execute_input": "2021-04-01T11:55:49.050Z",
          "iopub.status.idle": "2021-04-01T11:55:49.078Z"
        }
      }
    },
    {
      "cell_type": "markdown",
      "source": [
        "### Exercises\n",
        "\n",
        "#### 2.1\n",
        "Create a string that says \"hi\" 1000 times, first with `repeat` and then with the exponentiation operator, which can call `*` under the hood. Assign it the variable `hi` below."
      ],
      "metadata": {}
    },
    {
      "cell_type": "code",
      "source": [
        "hi = repeat(\"hi\",1000)\n",
        "\n",
        "@assert hi == \"hihihihihihihihihihihihihihihihihihihihihihihihihihihihihihihihihihihihihihihihihihihihihihihihihihihihihihihihihihihihihihihihihihihihihihihihihihihihihihihihihihihihihihihihihihihihihihihihihihihihihihihihihihihihihihihihihihihihihihihihihihihihihihihihihihihihihihihihihihihihihihihihihihihihihihihihihihihihihihihihihihihihihihihihihihihihihihihihihihihihihihihihihihihihihihihihihihihihihihihihihihihihihihihihihihihihihihihihihihihihihihihihihihihihihihihihihihihihihihihihihihihihihihihihihihihihihihihihihihihihihihihihihihihihihihihihihihihihihihihihihihihihihihihihihihihihihihihihihihihihihihihihihihihihihihihihihihihihihihihihihihihihihihihihihihihihihihihihihihihihihihihihihihihihihihihihihihihihihihihihihihihihihihihihihihihihihihihihihihihihihihihihihihihihihihihihihihihihihihihihihihihihihihihihihihihihihihihihihihihihihihihihihihihihihihihihihihihihihihihihihihihihihihihihihihihihihihihihihihihihihihihihihihihihihihihihihihihihihihihihihihihihihihihihihihihihihihihihihihihihihihihihihihihihihihihihihihihihihihihihihihihihihihihihihihihihihihihihihihihihihihihihihihihihihihihihihihihihihihihihihihihihihihihihihihihihihihihihihihihihihihihihihihihihihihihihihihihihihihihihihihihihihihihihihihihihihihihihihihihihihihihihihihihihihihihihihihihihihihihihihihihihihihihihihihihihihihihihihihihihihihihihihihihihihihihihihihihihihihihihihihihihihihihihihihihihihihihihihihihihihihihihihihihihihihihihihihihihihihihihihihihihihihihihihihihihihihihihihihihihihihihihihihihihihihihihihihihihihihihihihihihihihihihihihihihihihihihihihihihihihihihihihihihihihihihihihihihihihihihihihihihihihihihihihihihihihihihihihihihihihihihihihihihihihihihihihihihihihihihihihihihihihihihihihihihihihihihihihihihihihihihihihihihihihihihihihihihihihihihihihihihihihihihihihihihihihihihihihihihihihihihihihihihihihihihihihihihihihihihihihihihihihihihihihihihihihihihihihihihihihihihihihihihihihihihihihihihihihihihihihihihihihihihihihihihihihihihihihihihihihihihihihihihihihihihihihihihihihihihihi\""
      ],
      "outputs": [],
      "execution_count": 27,
      "metadata": {
        "execution": {
          "iopub.status.busy": "2021-04-01T12:11:10.215Z",
          "iopub.execute_input": "2021-04-01T12:11:10.227Z",
          "iopub.status.idle": "2021-04-01T12:11:10.248Z"
        }
      }
    },
    {
      "cell_type": "markdown",
      "source": [
        "#### 2.2\n",
        "Declare two variables\n",
        "\n",
        "```julia\n",
        "a = 3\n",
        "b = 4\n",
        "```\n",
        "and use them to create two strings:\n",
        "```julia\n",
        "\"3 + 4\"\n",
        "\"7\"\n",
        "```\n",
        "and store the results in `c` and `d` respectively"
      ],
      "metadata": {}
    },
    {
      "cell_type": "code",
      "source": [
        "a = 3\n",
        "b = 4\n",
        "\n",
        "c = \"\"\"$a + $b\"\"\"\n",
        "d = \"\"\"$(a+b)\"\"\"\n",
        "println(c)\n",
        "println(d)\n",
        "\n",
        "\n",
        "@assert c == \"3+4\"\n",
        "@assert d == \"7\""
      ],
      "outputs": [
        {
          "output_type": "stream",
          "name": "stdout",
          "text": [
            "3 + 4\n",
            "7\n"
          ]
        },
        {
          "output_type": "error",
          "ename": "AssertionError",
          "evalue": "AssertionError: c == \"3+4\"",
          "traceback": [
            "AssertionError: c == \"3+4\"",
            "",
            "Stacktrace:",
            " [1] top-level scope at In[42]:8"
          ]
        }
      ],
      "execution_count": 42,
      "metadata": {
        "execution": {
          "iopub.status.busy": "2021-04-01T12:23:11.612Z",
          "iopub.execute_input": "2021-04-01T12:23:11.621Z"
        }
      }
    }
  ],
  "metadata": {
    "language_info": {
      "file_extension": ".jl",
      "name": "julia",
      "mimetype": "application/julia",
      "version": "1.0.5"
    },
    "kernelspec": {
      "name": "julia-1.0",
      "display_name": "Julia 1.0.3",
      "language": "julia"
    },
    "nteract": {
      "version": "0.28.0"
    }
  },
  "nbformat": 4,
  "nbformat_minor": 3
}