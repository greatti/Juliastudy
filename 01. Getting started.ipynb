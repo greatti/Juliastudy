{
  "cells": [
    {
      "cell_type": "markdown",
      "source": [
        "# Getting started\n",
        "\n",
        "Topics:\n",
        "1.  How to print\n",
        "2. How to assign variables\n",
        "3. How to comment\n",
        "4. Syntax for basic math"
      ],
      "metadata": {}
    },
    {
      "cell_type": "markdown",
      "source": [
        "## How to print\n",
        "\n",
        "In Julia we usually use `println()` to print"
      ],
      "metadata": {}
    },
    {
      "cell_type": "code",
      "source": [
        "println(\"I'm excited to learn Julia!\")"
      ],
      "outputs": [
        {
          "output_type": "stream",
          "name": "stdout",
          "text": [
            "I'm excited to learn Julia!\n"
          ]
        }
      ],
      "execution_count": 1,
      "metadata": {
        "execution": {
          "iopub.status.busy": "2021-04-01T02:34:24.782Z",
          "iopub.execute_input": "2021-04-01T02:34:26.888Z",
          "iopub.status.idle": "2021-04-01T02:34:29.042Z"
        }
      }
    },
    {
      "cell_type": "markdown",
      "source": [
        "## How to assign variables\n",
        "\n",
        "All we need is a variable name, value, and an equal's sign!<br>\n",
        "Julia will figure out types for us."
      ],
      "metadata": {}
    },
    {
      "cell_type": "code",
      "source": [
        "my_answer = 42\n",
        "typeof(my_answer)"
      ],
      "outputs": [
        {
          "output_type": "execute_result",
          "execution_count": 2,
          "data": {
            "text/plain": "Int64"
          },
          "metadata": {}
        }
      ],
      "execution_count": 2,
      "metadata": {
        "execution": {
          "iopub.status.busy": "2021-04-01T02:34:29.097Z",
          "iopub.execute_input": "2021-04-01T02:34:29.127Z",
          "iopub.status.idle": "2021-04-01T02:34:30.255Z"
        }
      }
    },
    {
      "cell_type": "code",
      "source": [
        "my_pi = 3.14159\n",
        "typeof(my_pi)"
      ],
      "outputs": [
        {
          "output_type": "execute_result",
          "execution_count": 3,
          "data": {
            "text/plain": "Float64"
          },
          "metadata": {}
        }
      ],
      "execution_count": 3,
      "metadata": {
        "execution": {
          "iopub.status.busy": "2021-04-01T02:34:30.299Z",
          "iopub.execute_input": "2021-04-01T02:34:30.331Z",
          "iopub.status.idle": "2021-04-01T02:34:30.389Z"
        }
      }
    },
    {
      "cell_type": "code",
      "source": [
        "😺 = \"smiley cat!\"\n",
        "typeof(😺)"
      ],
      "outputs": [
        {
          "output_type": "execute_result",
          "execution_count": 4,
          "data": {
            "text/plain": "String"
          },
          "metadata": {}
        }
      ],
      "execution_count": 4,
      "metadata": {
        "execution": {
          "iopub.status.busy": "2021-04-01T02:34:30.420Z",
          "iopub.execute_input": "2021-04-01T02:34:30.435Z",
          "iopub.status.idle": "2021-04-01T02:34:30.518Z"
        }
      }
    },
    {
      "cell_type": "markdown",
      "source": [
        "To type a smiley cat, use tab completion to select the emoji name and then tab again"
      ],
      "metadata": {}
    },
    {
      "cell_type": "code",
      "source": [
        "# \\:smi + <tab> --> select with down arrow + <enter> ---> <tab> + <enter> to complete"
      ],
      "outputs": [],
      "execution_count": 5,
      "metadata": {
        "execution": {
          "iopub.status.busy": "2021-04-01T02:34:30.572Z",
          "iopub.execute_input": "2021-04-01T02:34:30.622Z",
          "iopub.status.idle": "2021-04-01T02:34:30.674Z"
        }
      }
    },
    {
      "cell_type": "markdown",
      "source": [
        "After assigning a value to a variable, we can reassign a value of a different type to that variable without any issue."
      ],
      "metadata": {}
    },
    {
      "cell_type": "code",
      "source": [
        "😺 = 1"
      ],
      "outputs": [
        {
          "output_type": "execute_result",
          "execution_count": 6,
          "data": {
            "text/plain": "1"
          },
          "metadata": {}
        }
      ],
      "execution_count": 6,
      "metadata": {
        "execution": {
          "iopub.status.busy": "2021-04-01T02:34:30.736Z",
          "iopub.execute_input": "2021-04-01T02:34:30.766Z",
          "iopub.status.idle": "2021-04-01T02:34:31.304Z"
        }
      }
    },
    {
      "cell_type": "code",
      "source": [
        "typeof(😺)"
      ],
      "outputs": [
        {
          "output_type": "execute_result",
          "execution_count": 7,
          "data": {
            "text/plain": "Int64"
          },
          "metadata": {}
        }
      ],
      "execution_count": 7,
      "metadata": {
        "execution": {
          "iopub.status.busy": "2021-04-01T02:34:31.354Z",
          "iopub.execute_input": "2021-04-01T02:34:31.400Z",
          "iopub.status.idle": "2021-04-01T02:34:31.466Z"
        }
      }
    },
    {
      "cell_type": "markdown",
      "source": [
        "Note: Julia allows us to write super generic code, and 😺 is an example of this. \n",
        "\n",
        "This allows us to write code like"
      ],
      "metadata": {}
    },
    {
      "cell_type": "code",
      "source": [
        "😀 = 0\n",
        "😞 = -1"
      ],
      "outputs": [
        {
          "output_type": "execute_result",
          "execution_count": 8,
          "data": {
            "text/plain": "-1"
          },
          "metadata": {}
        }
      ],
      "execution_count": 8,
      "metadata": {
        "execution": {
          "iopub.status.busy": "2021-04-01T02:34:31.539Z",
          "iopub.execute_input": "2021-04-01T02:34:31.585Z",
          "iopub.status.idle": "2021-04-01T02:34:31.685Z"
        }
      }
    },
    {
      "cell_type": "code",
      "source": [
        "😺 + 😞 == 😀"
      ],
      "outputs": [
        {
          "output_type": "execute_result",
          "execution_count": 9,
          "data": {
            "text/plain": "true"
          },
          "metadata": {}
        }
      ],
      "execution_count": 9,
      "metadata": {
        "execution": {
          "iopub.status.busy": "2021-04-01T02:34:31.752Z",
          "iopub.execute_input": "2021-04-01T02:34:31.773Z",
          "iopub.status.idle": "2021-04-01T02:34:32.169Z"
        }
      }
    },
    {
      "cell_type": "markdown",
      "source": [
        "## How to comment"
      ],
      "metadata": {}
    },
    {
      "cell_type": "code",
      "source": [
        "# You can leave comments on a single line using the pound/hash key"
      ],
      "outputs": [],
      "execution_count": 10,
      "metadata": {
        "execution": {
          "iopub.status.busy": "2021-04-01T02:34:32.219Z",
          "iopub.execute_input": "2021-04-01T02:34:32.253Z",
          "iopub.status.idle": "2021-04-01T02:34:32.307Z"
        }
      }
    },
    {
      "cell_type": "code",
      "source": [
        "#=\n",
        "\n",
        "For multi-line comments, \n",
        "use the '#= =#' sequence.\n",
        "\n",
        "=#"
      ],
      "outputs": [],
      "execution_count": 11,
      "metadata": {
        "execution": {
          "iopub.status.busy": "2021-04-01T02:34:32.351Z",
          "iopub.execute_input": "2021-04-01T02:34:32.372Z",
          "iopub.status.idle": "2021-04-01T02:34:32.431Z"
        }
      }
    },
    {
      "cell_type": "markdown",
      "source": [
        "## Syntax for basic math"
      ],
      "metadata": {}
    },
    {
      "cell_type": "code",
      "source": [
        "sum = 3 + 7"
      ],
      "outputs": [
        {
          "output_type": "execute_result",
          "execution_count": 12,
          "data": {
            "text/plain": "10"
          },
          "metadata": {}
        }
      ],
      "execution_count": 12,
      "metadata": {
        "execution": {
          "iopub.status.busy": "2021-04-01T02:34:32.463Z",
          "iopub.execute_input": "2021-04-01T02:34:32.488Z",
          "iopub.status.idle": "2021-04-01T02:34:32.523Z"
        }
      }
    },
    {
      "cell_type": "code",
      "source": [
        "difference = 10 - 3"
      ],
      "outputs": [
        {
          "output_type": "execute_result",
          "execution_count": 13,
          "data": {
            "text/plain": "7"
          },
          "metadata": {}
        }
      ],
      "execution_count": 13,
      "metadata": {
        "execution": {
          "iopub.status.busy": "2021-04-01T02:34:32.572Z",
          "iopub.execute_input": "2021-04-01T02:34:32.599Z",
          "iopub.status.idle": "2021-04-01T02:34:32.650Z"
        }
      }
    },
    {
      "cell_type": "code",
      "source": [
        "product = 20 * 5"
      ],
      "outputs": [
        {
          "output_type": "execute_result",
          "execution_count": 14,
          "data": {
            "text/plain": "100"
          },
          "metadata": {}
        }
      ],
      "execution_count": 14,
      "metadata": {
        "execution": {
          "iopub.status.busy": "2021-04-01T02:34:32.673Z",
          "iopub.execute_input": "2021-04-01T02:34:32.696Z",
          "iopub.status.idle": "2021-04-01T02:34:32.738Z"
        }
      }
    },
    {
      "cell_type": "code",
      "source": [
        "quotient = 100 / 10"
      ],
      "outputs": [
        {
          "output_type": "execute_result",
          "execution_count": 15,
          "data": {
            "text/plain": "10.0"
          },
          "metadata": {}
        }
      ],
      "execution_count": 15,
      "metadata": {
        "execution": {
          "iopub.status.busy": "2021-04-01T02:34:32.770Z",
          "iopub.execute_input": "2021-04-01T02:34:32.796Z",
          "iopub.status.idle": "2021-04-01T02:34:33.783Z"
        }
      }
    },
    {
      "cell_type": "code",
      "source": [
        "power = 10 ^ 2"
      ],
      "outputs": [
        {
          "output_type": "execute_result",
          "execution_count": 16,
          "data": {
            "text/plain": "100"
          },
          "metadata": {}
        }
      ],
      "execution_count": 16,
      "metadata": {
        "execution": {
          "iopub.status.busy": "2021-04-01T02:34:33.817Z",
          "iopub.execute_input": "2021-04-01T02:34:33.836Z",
          "iopub.status.idle": "2021-04-01T02:34:33.900Z"
        }
      }
    },
    {
      "cell_type": "code",
      "source": [
        "modulus = 101 % 2"
      ],
      "outputs": [
        {
          "output_type": "execute_result",
          "execution_count": 17,
          "data": {
            "text/plain": "1"
          },
          "metadata": {}
        }
      ],
      "execution_count": 17,
      "metadata": {
        "execution": {
          "iopub.status.busy": "2021-04-01T02:34:33.938Z",
          "iopub.execute_input": "2021-04-01T02:34:33.966Z",
          "iopub.status.idle": "2021-04-01T02:34:34.016Z"
        }
      }
    },
    {
      "cell_type": "markdown",
      "source": [
        "### Exercises\n",
        "\n",
        "#### 1.1 \n",
        "Look up docs for the `convert` function."
      ],
      "metadata": {}
    },
    {
      "cell_type": "code",
      "source": [
        "#= \n",
        "The convert function is convert(T,x) or T(x) that converts x to a value of type T"
      ],
      "outputs": [],
      "execution_count": null,
      "metadata": {}
    },
    {
      "cell_type": "markdown",
      "source": [
        "#### 1.2 \n",
        "Assign `365` to a variable named `days`. Convert `days` to a float and assign it to variable `days_float`"
      ],
      "metadata": {}
    },
    {
      "cell_type": "code",
      "source": [
        "days = 365 \n",
        "days_float = float(days)"
      ],
      "outputs": [
        {
          "output_type": "execute_result",
          "execution_count": 26,
          "data": {
            "text/plain": "365.0"
          },
          "metadata": {}
        }
      ],
      "execution_count": 26,
      "metadata": {
        "execution": {
          "iopub.status.busy": "2021-04-01T10:39:03.100Z",
          "iopub.execute_input": "2021-04-01T10:39:03.112Z",
          "iopub.status.idle": "2021-04-01T10:39:03.138Z"
        }
      }
    },
    {
      "cell_type": "code",
      "source": [
        "@assert days == 365\n",
        "@assert days_float == 365.0\n"
      ],
      "outputs": [],
      "execution_count": 28,
      "metadata": {
        "deletable": false,
        "editable": false,
        "hide_input": true,
        "nbgrader": {
          "checksum": "a2dc243275e0310c3b29a745b952f321",
          "grade": true,
          "grade_id": "cell-715f78016beb0489",
          "locked": true,
          "points": 1,
          "schema_version": 1,
          "solution": false
        },
        "execution": {
          "iopub.status.busy": "2021-04-01T10:39:06.656Z",
          "iopub.execute_input": "2021-04-01T10:39:06.666Z",
          "iopub.status.idle": "2021-04-01T10:39:06.680Z"
        }
      }
    },
    {
      "cell_type": "markdown",
      "source": [
        "#### 1.3 \n",
        "See what happens when you execute\n",
        "\n",
        "```julia\n",
        "convert(Int64, \"1\")\n",
        "```\n",
        "and\n",
        "\n",
        "```julia\n",
        "parse(Int64, \"1\")\n",
        "```"
      ],
      "metadata": {}
    },
    {
      "cell_type": "code",
      "source": [
        "convert(Int64, '1')\n",
        "parse(Int64, '1')"
      ],
      "outputs": [
        {
          "output_type": "execute_result",
          "execution_count": 31,
          "data": {
            "text/plain": "1"
          },
          "metadata": {}
        }
      ],
      "execution_count": 31,
      "metadata": {
        "execution": {
          "iopub.status.busy": "2021-04-01T10:39:50.080Z",
          "iopub.execute_input": "2021-04-01T10:39:50.094Z",
          "iopub.status.idle": "2021-04-01T10:39:50.119Z"
        }
      }
    },
    {
      "cell_type": "code",
      "source": [
        "Please click on `Validate` on the top, once you are done with the exercises."
      ],
      "outputs": [
        {
          "output_type": "error",
          "ename": "LoadError",
          "evalue": "syntax: extra token \"click\" after end of expression",
          "traceback": [
            "syntax: extra token \"click\" after end of expression",
            ""
          ]
        }
      ],
      "execution_count": 30,
      "metadata": {
        "execution": {
          "iopub.status.busy": "2021-04-01T10:39:44.739Z",
          "iopub.execute_input": "2021-04-01T10:39:44.749Z"
        }
      }
    }
  ],
  "metadata": {
    "kernelspec": {
      "display_name": "Julia 1.0.0",
      "language": "julia",
      "name": "julia-1.0"
    },
    "language_info": {
      "file_extension": ".jl",
      "name": "julia",
      "mimetype": "application/julia",
      "version": "1.6.0"
    },
    "nteract": {
      "version": "0.28.0"
    }
  },
  "nbformat": 4,
  "nbformat_minor": 2
}