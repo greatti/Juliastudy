{
  "cells": [
    {
      "cell_type": "markdown",
      "source": [
        "# Data structures\n",
        "\n",
        "Once we start working with many pieces of data at once, it will be convenient for us to store data in structures like arrays or dictionaries (rather than just relying on variables).<br>\n",
        "\n",
        "Types of data structures covered:\n",
        "1. Tuples\n",
        "2. Dictionaries\n",
        "3. Arrays\n",
        "\n",
        "<br>\n",
        "As an overview, tuples and arrays are both ordered sequences of elements (so we can index into them). Dictionaries and arrays are both mutable.\n",
        "We'll explain this more below!"
      ],
      "metadata": {}
    },
    {
      "cell_type": "markdown",
      "source": [
        "## Tuples\n",
        "\n",
        "We can create a tuple by enclosing an ordered collection of elements in `( )`.\n",
        "\n",
        "Syntax: <br>\n",
        "```julia\n",
        "(item1, item2, ...)```"
      ],
      "metadata": {}
    },
    {
      "cell_type": "code",
      "source": [
        "myfavoriteanimals = (\"penguins\", \"cats\", \"sugargliders\")"
      ],
      "outputs": [
        {
          "output_type": "execute_result",
          "execution_count": 1,
          "data": {
            "text/plain": "(\"penguins\", \"cats\", \"sugargliders\")"
          },
          "metadata": {}
        }
      ],
      "execution_count": 1,
      "metadata": {
        "execution": {
          "iopub.status.busy": "2021-04-01T12:36:18.932Z",
          "iopub.execute_input": "2021-04-01T12:36:20.991Z",
          "iopub.status.idle": "2021-04-01T12:36:23.206Z"
        }
      }
    },
    {
      "cell_type": "markdown",
      "source": [
        "We can index into this tuple,"
      ],
      "metadata": {}
    },
    {
      "cell_type": "code",
      "source": [
        "myfavoriteanimals[1]"
      ],
      "outputs": [
        {
          "output_type": "execute_result",
          "execution_count": 2,
          "data": {
            "text/plain": "\"penguins\""
          },
          "metadata": {}
        }
      ],
      "execution_count": 2,
      "metadata": {
        "execution": {
          "iopub.status.busy": "2021-04-01T12:36:23.234Z",
          "iopub.execute_input": "2021-04-01T12:36:23.258Z",
          "iopub.status.idle": "2021-04-01T12:36:23.477Z"
        }
      }
    },
    {
      "cell_type": "markdown",
      "source": [
        "but since tuples are immutable, we can't update it"
      ],
      "metadata": {}
    },
    {
      "cell_type": "code",
      "source": [
        "myfavoriteanimals[1] = \"otters\""
      ],
      "outputs": [
        {
          "output_type": "error",
          "ename": "LoadError",
          "evalue": "MethodError: no method matching setindex!(::Tuple{String, String, String}, ::String, ::Int64)",
          "traceback": [
            "MethodError: no method matching setindex!(::Tuple{String, String, String}, ::String, ::Int64)",
            "",
            "Stacktrace:",
            " [1] top-level scope",
            "   @ In[3]:1",
            " [2] eval",
            "   @ .\\boot.jl:360 [inlined]",
            " [3] include_string(mapexpr::typeof(REPL.softscope), mod::Module, code::String, filename::String)",
            "   @ Base .\\loading.jl:1094"
          ]
        }
      ],
      "execution_count": 3,
      "metadata": {
        "execution": {
          "iopub.status.busy": "2021-04-01T12:36:23.505Z",
          "iopub.execute_input": "2021-04-01T12:36:23.527Z"
        }
      }
    },
    {
      "cell_type": "markdown",
      "source": [
        "## Now in 1.0: NamedTuples\n",
        "\n",
        "As you might guess, `NamedTuple`s are just like `Tuple`s except that each element additionally has a name! They have a special syntax using `=` inside a tuple:\n",
        "\n",
        "```julia\n",
        "(name1 = item1, name2 = item2, ...)\n",
        "```"
      ],
      "metadata": {}
    },
    {
      "cell_type": "code",
      "source": [
        "myfavoriteanimals = (bird = \"penguins\", mammal = \"cats\", marsupial = \"sugargliders\")"
      ],
      "outputs": [],
      "execution_count": null,
      "metadata": {
        "execution": {
          "iopub.status.busy": "2021-04-01T12:35:15.460Z",
          "iopub.execute_input": "2021-04-01T12:35:15.502Z",
          "iopub.status.idle": "2021-04-01T12:35:15.910Z"
        }
      }
    },
    {
      "cell_type": "markdown",
      "source": [
        "Like regular `Tuples`, `NamedTuples` are ordered, so we can retrieve their elements via indexing:"
      ],
      "metadata": {}
    },
    {
      "cell_type": "code",
      "source": [
        "myfavoriteanimals[1]"
      ],
      "outputs": [],
      "execution_count": null,
      "metadata": {
        "execution": {
          "iopub.status.busy": "2021-04-01T12:35:31.117Z",
          "iopub.execute_input": "2021-04-01T12:35:31.145Z",
          "iopub.status.idle": "2021-04-01T12:35:31.199Z"
        }
      }
    },
    {
      "cell_type": "markdown",
      "source": [
        "They also add the special ability to access values by their name:"
      ],
      "metadata": {}
    },
    {
      "cell_type": "code",
      "source": [
        "myfavoriteanimals.bird"
      ],
      "outputs": [],
      "execution_count": null,
      "metadata": {
        "execution": {
          "iopub.status.busy": "2021-04-01T12:35:39.223Z",
          "iopub.execute_input": "2021-04-01T12:35:39.251Z",
          "iopub.status.idle": "2021-04-01T12:35:39.289Z"
        }
      }
    },
    {
      "cell_type": "markdown",
      "source": [
        "## Dictionaries\n",
        "\n",
        "If we have sets of data related to one another, we may choose to store that data in a dictionary. We can create a dictionary using the `Dict()` function, which we can initialize as an empty dictionary or one storing key, value pairs.\n",
        "\n",
        "Syntax:\n",
        "```julia\n",
        "Dict(key1 => value1, key2 => value2, ...)```\n",
        "\n",
        "A good example is a contacts list, where we associate names with phone numbers."
      ],
      "metadata": {}
    },
    {
      "cell_type": "code",
      "source": [
        "myphonebook = Dict(\"Jenny\" => \"867-5309\", \"Ghostbusters\" => \"555-2368\")"
      ],
      "outputs": [
        {
          "output_type": "execute_result",
          "execution_count": 38,
          "data": {
            "text/plain": "Dict{String, String} with 2 entries:\n  \"Jenny\"        => \"867-5309\"\n  \"Ghostbusters\" => \"555-2368\""
          },
          "metadata": {}
        }
      ],
      "execution_count": 38,
      "metadata": {
        "execution": {
          "iopub.status.busy": "2021-04-01T12:37:02.531Z",
          "iopub.execute_input": "2021-04-01T12:37:02.556Z",
          "iopub.status.idle": "2021-04-01T12:37:02.632Z"
        }
      }
    },
    {
      "cell_type": "markdown",
      "source": [
        "In this example, each name and number is a \"key\" and \"value\" pair. We can grab Jenny's number (a value) using the associated key"
      ],
      "metadata": {}
    },
    {
      "cell_type": "code",
      "source": [
        "myphonebook[\"Jenny\"]"
      ],
      "outputs": [
        {
          "output_type": "execute_result",
          "execution_count": 39,
          "data": {
            "text/plain": "\"867-5309\""
          },
          "metadata": {}
        }
      ],
      "execution_count": 39,
      "metadata": {
        "execution": {
          "iopub.status.busy": "2021-04-01T12:37:18.377Z",
          "iopub.execute_input": "2021-04-01T12:37:18.392Z",
          "iopub.status.idle": "2021-04-01T12:37:18.427Z"
        }
      }
    },
    {
      "cell_type": "markdown",
      "source": [
        "We can add another entry to this dictionary as follows"
      ],
      "metadata": {}
    },
    {
      "cell_type": "code",
      "source": [
        "myphonebook[\"Kramer\"] = \"555-FILK\""
      ],
      "outputs": [
        {
          "output_type": "execute_result",
          "execution_count": 40,
          "data": {
            "text/plain": "\"555-FILK\""
          },
          "metadata": {}
        }
      ],
      "execution_count": 40,
      "metadata": {
        "execution": {
          "iopub.status.busy": "2021-04-01T12:37:22.995Z",
          "iopub.execute_input": "2021-04-01T12:37:23.011Z",
          "iopub.status.idle": "2021-04-01T12:37:23.043Z"
        }
      }
    },
    {
      "cell_type": "markdown",
      "source": [
        "Let's check what our phonebook looks like now..."
      ],
      "metadata": {}
    },
    {
      "cell_type": "code",
      "source": [
        "myphonebook"
      ],
      "outputs": [
        {
          "output_type": "execute_result",
          "execution_count": 41,
          "data": {
            "text/plain": "Dict{String, String} with 3 entries:\n  \"Jenny\"        => \"867-5309\"\n  \"Kramer\"       => \"555-FILK\"\n  \"Ghostbusters\" => \"555-2368\""
          },
          "metadata": {}
        }
      ],
      "execution_count": 41,
      "metadata": {
        "execution": {
          "iopub.status.busy": "2021-04-01T12:37:26.249Z",
          "iopub.execute_input": "2021-04-01T12:37:26.265Z",
          "iopub.status.idle": "2021-04-01T12:37:26.296Z"
        }
      }
    },
    {
      "cell_type": "markdown",
      "source": [
        "We can delete Kramer from our contact list - and simultaneously grab his number - by using `pop!`"
      ],
      "metadata": {}
    },
    {
      "cell_type": "code",
      "source": [
        "pop!(myphonebook, \"Kramer\")"
      ],
      "outputs": [
        {
          "output_type": "execute_result",
          "execution_count": 42,
          "data": {
            "text/plain": "\"555-FILK\""
          },
          "metadata": {}
        }
      ],
      "execution_count": 42,
      "metadata": {
        "execution": {
          "iopub.status.busy": "2021-04-01T12:37:41.872Z",
          "iopub.execute_input": "2021-04-01T12:37:41.893Z",
          "iopub.status.idle": "2021-04-01T12:37:41.938Z"
        }
      }
    },
    {
      "cell_type": "code",
      "source": [
        "myphonebook"
      ],
      "outputs": [
        {
          "output_type": "execute_result",
          "execution_count": 43,
          "data": {
            "text/plain": "Dict{String, String} with 2 entries:\n  \"Jenny\"        => \"867-5309\"\n  \"Ghostbusters\" => \"555-2368\""
          },
          "metadata": {}
        }
      ],
      "execution_count": 43,
      "metadata": {
        "execution": {
          "iopub.status.busy": "2021-04-01T12:37:44.005Z",
          "iopub.execute_input": "2021-04-01T12:37:44.030Z",
          "iopub.status.idle": "2021-04-01T12:37:44.065Z"
        }
      }
    },
    {
      "cell_type": "markdown",
      "source": [
        "Unlike tuples and arrays, dictionaries are not ordered. So, we can't index into them."
      ],
      "metadata": {}
    },
    {
      "cell_type": "code",
      "source": [
        "myphonebook[1]"
      ],
      "outputs": [
        {
          "output_type": "error",
          "ename": "LoadError",
          "evalue": "KeyError: key 1 not found",
          "traceback": [
            "KeyError: key 1 not found",
            "",
            "Stacktrace:",
            " [1] getindex(h::Dict{String, String}, key::Int64)",
            "   @ Base .\\dict.jl:482",
            " [2] top-level scope",
            "   @ In[44]:1",
            " [3] eval",
            "   @ .\\boot.jl:360 [inlined]",
            " [4] include_string(mapexpr::typeof(REPL.softscope), mod::Module, code::String, filename::String)",
            "   @ Base .\\loading.jl:1094"
          ]
        }
      ],
      "execution_count": 44,
      "metadata": {
        "execution": {
          "iopub.status.busy": "2021-04-01T12:37:51.011Z",
          "iopub.execute_input": "2021-04-01T12:37:51.029Z"
        }
      }
    },
    {
      "cell_type": "markdown",
      "source": [
        "In the example above, `julia` thinks you're trying to access a value associated with the key `1`."
      ],
      "metadata": {}
    },
    {
      "cell_type": "markdown",
      "source": [
        "## Arrays\n",
        "\n",
        "Unlike tuples, arrays are mutable. Unlike dictionaries, arrays contain ordered collections. <br>\n",
        "We can create an array by enclosing this collection in `[ ]`.\n",
        "\n",
        "Syntax: <br>\n",
        "```julia\n",
        "[item1, item2, ...]```\n",
        "\n",
        "\n",
        "For example, we might create an array to keep track of my friends"
      ],
      "metadata": {}
    },
    {
      "cell_type": "code",
      "source": [
        "myfriends = [\"Ted\", \"Robyn\", \"Barney\", \"Lily\", \"Marshall\"]"
      ],
      "outputs": [
        {
          "output_type": "execute_result",
          "execution_count": 45,
          "data": {
            "text/plain": "5-element Vector{String}:\n \"Ted\"\n \"Robyn\"\n \"Barney\"\n \"Lily\"\n \"Marshall\""
          },
          "metadata": {}
        }
      ],
      "execution_count": 45,
      "metadata": {
        "execution": {
          "iopub.status.busy": "2021-04-01T12:38:36.014Z",
          "iopub.execute_input": "2021-04-01T12:38:36.035Z",
          "iopub.status.idle": "2021-04-01T12:38:36.091Z"
        }
      }
    },
    {
      "cell_type": "markdown",
      "source": [
        "The `1` in `Array{String,1}` means this is a one dimensional vector.  An `Array{String,2}` would be a 2d matrix, etc.  The `String` is the type of each element."
      ],
      "metadata": {}
    },
    {
      "cell_type": "markdown",
      "source": [
        "or to store a sequence of numbers"
      ],
      "metadata": {}
    },
    {
      "cell_type": "code",
      "source": [
        "fibonacci = [1, 1, 2, 3, 5, 8, 13]"
      ],
      "outputs": [
        {
          "output_type": "execute_result",
          "execution_count": 46,
          "data": {
            "text/plain": "7-element Vector{Int64}:\n  1\n  1\n  2\n  3\n  5\n  8\n 13"
          },
          "metadata": {}
        }
      ],
      "execution_count": 46,
      "metadata": {
        "execution": {
          "iopub.status.busy": "2021-04-01T12:38:52.261Z",
          "iopub.execute_input": "2021-04-01T12:38:52.280Z",
          "iopub.status.idle": "2021-04-01T12:38:52.320Z"
        }
      }
    },
    {
      "cell_type": "code",
      "source": [
        "mixture = [1, 1, 2, 3, \"Ted\", \"Robyn\"]"
      ],
      "outputs": [
        {
          "output_type": "execute_result",
          "execution_count": 47,
          "data": {
            "text/plain": "6-element Vector{Any}:\n 1\n 1\n 2\n 3\n  \"Ted\"\n  \"Robyn\""
          },
          "metadata": {}
        }
      ],
      "execution_count": 47,
      "metadata": {
        "execution": {
          "iopub.status.busy": "2021-04-01T12:38:56.539Z",
          "iopub.execute_input": "2021-04-01T12:38:56.559Z",
          "iopub.status.idle": "2021-04-01T12:38:56.596Z"
        }
      }
    },
    {
      "cell_type": "markdown",
      "source": [
        "Once we have an array, we can grab individual pieces of data from inside that array by indexing into the array. For example, if we want the third friend listed in `myfriends`, we write"
      ],
      "metadata": {}
    },
    {
      "cell_type": "code",
      "source": [
        "myfriends[3]"
      ],
      "outputs": [
        {
          "output_type": "execute_result",
          "execution_count": 48,
          "data": {
            "text/plain": "\"Barney\""
          },
          "metadata": {}
        }
      ],
      "execution_count": 48,
      "metadata": {
        "execution": {
          "iopub.status.busy": "2021-04-01T12:39:04.259Z",
          "iopub.execute_input": "2021-04-01T12:39:04.304Z",
          "iopub.status.idle": "2021-04-01T12:39:04.376Z"
        }
      }
    },
    {
      "cell_type": "markdown",
      "source": [
        "We can use indexing to edit an existing element of an array"
      ],
      "metadata": {}
    },
    {
      "cell_type": "code",
      "source": [
        "myfriends[3] = \"Baby Bop\""
      ],
      "outputs": [
        {
          "output_type": "execute_result",
          "execution_count": 49,
          "data": {
            "text/plain": "\"Baby Bop\""
          },
          "metadata": {}
        }
      ],
      "execution_count": 49,
      "metadata": {
        "execution": {
          "iopub.status.busy": "2021-04-01T12:39:19.847Z",
          "iopub.execute_input": "2021-04-01T12:39:19.865Z",
          "iopub.status.idle": "2021-04-01T12:39:19.901Z"
        }
      }
    },
    {
      "cell_type": "markdown",
      "source": [
        "Yes, Julia is 1-based indexing, not 0-based like Python.  Wars are faught over lesser issues. I have a friend with the wisdom of Solomon who proposes settling this once and for all with ½ 😃"
      ],
      "metadata": {}
    },
    {
      "cell_type": "markdown",
      "source": [
        "We can also edit the array by using the `push!` and `pop!` functions. `push!` adds an element to the end of an array and `pop!` removes the last element of an array.\n",
        "\n",
        "We can add another number to our fibonnaci sequence"
      ],
      "metadata": {}
    },
    {
      "cell_type": "code",
      "source": [
        "push!(fibonacci, 21)"
      ],
      "outputs": [
        {
          "output_type": "execute_result",
          "execution_count": 50,
          "data": {
            "text/plain": "8-element Vector{Int64}:\n  1\n  1\n  2\n  3\n  5\n  8\n 13\n 21"
          },
          "metadata": {}
        }
      ],
      "execution_count": 50,
      "metadata": {
        "execution": {
          "iopub.status.busy": "2021-04-01T12:39:56.173Z",
          "iopub.execute_input": "2021-04-01T12:39:56.201Z",
          "iopub.status.idle": "2021-04-01T12:39:56.254Z"
        }
      }
    },
    {
      "cell_type": "markdown",
      "source": [
        "and then remove it"
      ],
      "metadata": {}
    },
    {
      "cell_type": "code",
      "source": [
        "pop!(fibonacci)"
      ],
      "outputs": [
        {
          "output_type": "execute_result",
          "execution_count": 51,
          "data": {
            "text/plain": "21"
          },
          "metadata": {}
        }
      ],
      "execution_count": 51,
      "metadata": {
        "execution": {
          "iopub.status.busy": "2021-04-01T12:40:00.874Z",
          "iopub.execute_input": "2021-04-01T12:40:00.914Z",
          "iopub.status.idle": "2021-04-01T12:40:00.996Z"
        }
      }
    },
    {
      "cell_type": "code",
      "source": [
        "fibonacci"
      ],
      "outputs": [
        {
          "output_type": "execute_result",
          "execution_count": 52,
          "data": {
            "text/plain": "7-element Vector{Int64}:\n  1\n  1\n  2\n  3\n  5\n  8\n 13"
          },
          "metadata": {}
        }
      ],
      "execution_count": 52,
      "metadata": {
        "execution": {
          "iopub.status.busy": "2021-04-01T12:40:04.280Z",
          "iopub.execute_input": "2021-04-01T12:40:04.305Z",
          "iopub.status.idle": "2021-04-01T12:40:04.365Z"
        }
      }
    },
    {
      "cell_type": "markdown",
      "source": [
        "So far I've given examples of only 1D arrays of scalars, but arrays can have an arbitrary number of dimensions and can also store other arrays.\n",
        "<br><br>\n",
        "For example, the following are arrays of arrays:"
      ],
      "metadata": {}
    },
    {
      "cell_type": "code",
      "source": [
        "favorites = [[\"koobideh\", \"chocolate\", \"eggs\"],[\"penguins\", \"cats\", \"sugargliders\"]]"
      ],
      "outputs": [
        {
          "output_type": "execute_result",
          "execution_count": 53,
          "data": {
            "text/plain": "2-element Vector{Vector{String}}:\n [\"koobideh\", \"chocolate\", \"eggs\"]\n [\"penguins\", \"cats\", \"sugargliders\"]"
          },
          "metadata": {}
        }
      ],
      "execution_count": 53,
      "metadata": {
        "execution": {
          "iopub.status.busy": "2021-04-01T12:40:19.315Z",
          "iopub.execute_input": "2021-04-01T12:40:19.336Z",
          "iopub.status.idle": "2021-04-01T12:40:19.380Z"
        }
      }
    },
    {
      "cell_type": "code",
      "source": [
        "numbers = [[1, 2, 3], [4, 5], [6, 7, 8, 9]]"
      ],
      "outputs": [
        {
          "output_type": "execute_result",
          "execution_count": 54,
          "data": {
            "text/plain": "3-element Vector{Vector{Int64}}:\n [1, 2, 3]\n [4, 5]\n [6, 7, 8, 9]"
          },
          "metadata": {}
        }
      ],
      "execution_count": 54,
      "metadata": {
        "execution": {
          "iopub.status.busy": "2021-04-01T12:40:31.917Z",
          "iopub.execute_input": "2021-04-01T12:40:31.940Z",
          "iopub.status.idle": "2021-04-01T12:40:31.983Z"
        }
      }
    },
    {
      "cell_type": "markdown",
      "source": [
        "Below are examples of 2D and 3D arrays populated with random values."
      ],
      "metadata": {}
    },
    {
      "cell_type": "code",
      "source": [
        "rand(4, 3)"
      ],
      "outputs": [
        {
          "output_type": "execute_result",
          "execution_count": 55,
          "data": {
            "text/plain": "4×3 Matrix{Float64}:\n 0.46017   0.302241  0.314538\n 0.988372  0.232112  0.8049\n 0.151538  0.016008  0.775816\n 0.646486  0.31997   0.551493"
          },
          "metadata": {}
        }
      ],
      "execution_count": 55,
      "metadata": {
        "execution": {
          "iopub.status.busy": "2021-04-01T12:40:42.771Z",
          "iopub.execute_input": "2021-04-01T12:40:42.792Z",
          "iopub.status.idle": "2021-04-01T12:40:42.829Z"
        }
      }
    },
    {
      "cell_type": "code",
      "source": [
        "rand(4, 3, 2)"
      ],
      "outputs": [
        {
          "output_type": "execute_result",
          "execution_count": 56,
          "data": {
            "text/plain": "4×3×2 Array{Float64, 3}:\n[:, :, 1] =\n 0.211651  0.162237   0.427048\n 0.353813  0.0597881  0.613047\n 0.48286   0.119496   0.713514\n 0.017859  0.297859   0.482434\n\n[:, :, 2] =\n 0.196667  0.972286  0.159775\n 0.368412  0.537429  0.566446\n 0.687278  0.516865  0.267509\n 0.768724  0.841942  0.328542"
          },
          "metadata": {}
        }
      ],
      "execution_count": 56,
      "metadata": {
        "execution": {
          "iopub.status.busy": "2021-04-01T12:41:02.572Z",
          "iopub.execute_input": "2021-04-01T12:41:02.605Z",
          "iopub.status.idle": "2021-04-01T12:41:02.670Z"
        }
      }
    },
    {
      "cell_type": "markdown",
      "source": [
        "Be careful when you want to copy arrays!"
      ],
      "metadata": {}
    },
    {
      "cell_type": "code",
      "source": [
        "fibonacci"
      ],
      "outputs": [
        {
          "output_type": "execute_result",
          "execution_count": 57,
          "data": {
            "text/plain": "7-element Vector{Int64}:\n  1\n  1\n  2\n  3\n  5\n  8\n 13"
          },
          "metadata": {}
        }
      ],
      "execution_count": 57,
      "metadata": {
        "execution": {
          "iopub.status.busy": "2021-04-01T12:41:15.955Z",
          "iopub.execute_input": "2021-04-01T12:41:15.973Z",
          "iopub.status.idle": "2021-04-01T12:41:16.034Z"
        }
      }
    },
    {
      "cell_type": "code",
      "source": [
        "somenumbers = fibonacci"
      ],
      "outputs": [
        {
          "output_type": "execute_result",
          "execution_count": 58,
          "data": {
            "text/plain": "7-element Vector{Int64}:\n  1\n  1\n  2\n  3\n  5\n  8\n 13"
          },
          "metadata": {}
        }
      ],
      "execution_count": 58,
      "metadata": {
        "execution": {
          "iopub.status.busy": "2021-04-01T12:41:19.017Z",
          "iopub.execute_input": "2021-04-01T12:41:19.035Z",
          "iopub.status.idle": "2021-04-01T12:41:19.069Z"
        }
      }
    },
    {
      "cell_type": "code",
      "source": [
        "somenumbers[1] = 404"
      ],
      "outputs": [
        {
          "output_type": "execute_result",
          "execution_count": 59,
          "data": {
            "text/plain": "404"
          },
          "metadata": {}
        }
      ],
      "execution_count": 59,
      "metadata": {
        "execution": {
          "iopub.status.busy": "2021-04-01T12:41:21.606Z",
          "iopub.execute_input": "2021-04-01T12:41:21.625Z",
          "iopub.status.idle": "2021-04-01T12:41:21.667Z"
        }
      }
    },
    {
      "cell_type": "code",
      "source": [
        "fibonacci"
      ],
      "outputs": [
        {
          "output_type": "execute_result",
          "execution_count": 60,
          "data": {
            "text/plain": "7-element Vector{Int64}:\n 404\n   1\n   2\n   3\n   5\n   8\n  13"
          },
          "metadata": {}
        }
      ],
      "execution_count": 60,
      "metadata": {
        "execution": {
          "iopub.status.busy": "2021-04-01T12:41:24.464Z",
          "iopub.execute_input": "2021-04-01T12:41:24.479Z",
          "iopub.status.idle": "2021-04-01T12:41:24.512Z"
        }
      }
    },
    {
      "cell_type": "markdown",
      "source": [
        "Editing `somenumbers` caused `fibonacci` to get updated as well!\n",
        "\n",
        "In the above example, we didn't actually make a copy of `fibonacci`. We just created a new way to access the entries in the array bound to `fibonacci`.\n",
        "\n",
        "If we'd like to make a copy of the array bound to `fibonacci`, we can use the `copy` function."
      ],
      "metadata": {}
    },
    {
      "cell_type": "code",
      "source": [
        "# First, restore fibonacci\n",
        "fibonacci[1] = 1\n",
        "fibonacci"
      ],
      "outputs": [
        {
          "output_type": "execute_result",
          "execution_count": 61,
          "data": {
            "text/plain": "7-element Vector{Int64}:\n  1\n  1\n  2\n  3\n  5\n  8\n 13"
          },
          "metadata": {}
        }
      ],
      "execution_count": 61,
      "metadata": {
        "execution": {
          "iopub.status.busy": "2021-04-01T12:41:39.858Z",
          "iopub.execute_input": "2021-04-01T12:41:39.875Z",
          "iopub.status.idle": "2021-04-01T12:41:39.910Z"
        }
      }
    },
    {
      "cell_type": "code",
      "source": [
        "somemorenumbers = copy(fibonacci)"
      ],
      "outputs": [
        {
          "output_type": "execute_result",
          "execution_count": 62,
          "data": {
            "text/plain": "7-element Vector{Int64}:\n  1\n  1\n  2\n  3\n  5\n  8\n 13"
          },
          "metadata": {}
        }
      ],
      "execution_count": 62,
      "metadata": {
        "execution": {
          "iopub.status.busy": "2021-04-01T12:41:44.046Z",
          "iopub.execute_input": "2021-04-01T12:41:44.063Z",
          "iopub.status.idle": "2021-04-01T12:41:44.099Z"
        }
      }
    },
    {
      "cell_type": "code",
      "source": [
        "somemorenumbers[1] = 404"
      ],
      "outputs": [
        {
          "output_type": "execute_result",
          "execution_count": 63,
          "data": {
            "text/plain": "404"
          },
          "metadata": {}
        }
      ],
      "execution_count": 63,
      "metadata": {
        "execution": {
          "iopub.status.busy": "2021-04-01T12:41:45.310Z",
          "iopub.execute_input": "2021-04-01T12:41:45.332Z",
          "iopub.status.idle": "2021-04-01T12:41:45.369Z"
        }
      }
    },
    {
      "cell_type": "code",
      "source": [
        "fibonacci"
      ],
      "outputs": [
        {
          "output_type": "execute_result",
          "execution_count": 64,
          "data": {
            "text/plain": "7-element Vector{Int64}:\n  1\n  1\n  2\n  3\n  5\n  8\n 13"
          },
          "metadata": {}
        }
      ],
      "execution_count": 64,
      "metadata": {
        "execution": {
          "iopub.status.busy": "2021-04-01T12:41:48.281Z",
          "iopub.execute_input": "2021-04-01T12:41:48.298Z",
          "iopub.status.idle": "2021-04-01T12:41:48.335Z"
        }
      }
    },
    {
      "cell_type": "markdown",
      "source": [
        "In this last example, fibonacci was not updated. Therefore we see that the arrays bound to `somemorenumbers` and `fibonacci` are distinct."
      ],
      "metadata": {}
    },
    {
      "cell_type": "markdown",
      "source": [
        "### Exercises\n",
        "\n",
        "#### 3.1\n",
        "Create an array, `a_ray`, with the following code:\n",
        "\n",
        "```julia\n",
        "a_ray = [1, 2, 3]\n",
        "```\n",
        "\n",
        "Add the number `4` to the end of this array and then remove it."
      ],
      "metadata": {}
    },
    {
      "cell_type": "code",
      "source": [
        "a_ray = [1, 2, 3]\n",
        "push!(a_ray, 4)\n",
        "pop!(a_ray)\n",
        "println(a_ray)\n",
        "@assert a_ray == [1, 2, 3]"
      ],
      "outputs": [
        {
          "output_type": "stream",
          "name": "stdout",
          "text": [
            "[1, 2, 3]\n"
          ]
        }
      ],
      "execution_count": 72,
      "metadata": {
        "execution": {
          "iopub.status.busy": "2021-04-01T12:50:42.878Z",
          "iopub.execute_input": "2021-04-01T12:50:42.908Z",
          "iopub.status.idle": "2021-04-01T12:50:43.264Z"
        }
      }
    },
    {
      "cell_type": "markdown",
      "source": [
        "#### 3.2\n",
        "Try to add \"Emergency\" as key to `myphonebook` with the value `string(911)` with the following code\n",
        "```julia\n",
        "myphonebook[\"Emergency\"] = 911\n",
        "```\n",
        "\n",
        "Why doesn't this work?"
      ],
      "metadata": {}
    },
    {
      "cell_type": "code",
      "source": [
        "myphonebook = Dict(\"Jenny\" => \"867-5309\", \"Ghostbusters\" => \"555-2368\")\n",
        "myphonebook[\"Emergency\"] = \"911\"\n",
        "#= \n",
        "myphonebook[\"Emergency\"] = 911\n",
        "this doesnt work because 911 is a int, and this dictionary needs keys and values in string form because all of the values were in string form\n",
        "=#\n",
        "myphonebook"
      ],
      "outputs": [
        {
          "output_type": "execute_result",
          "execution_count": 75,
          "data": {
            "text/plain": "Dict{String, String} with 3 entries:\n  \"Jenny\"        => \"867-5309\"\n  \"Emergency\"    => \"911\"\n  \"Ghostbusters\" => \"555-2368\""
          },
          "metadata": {}
        }
      ],
      "execution_count": 75,
      "metadata": {
        "collapsed": true,
        "jupyter": {
          "source_hidden": false,
          "outputs_hidden": false
        },
        "nteract": {
          "transient": {
            "deleting": false
          }
        },
        "execution": {
          "iopub.status.busy": "2021-04-01T12:54:44.791Z",
          "iopub.execute_input": "2021-04-01T12:54:44.811Z",
          "iopub.status.idle": "2021-04-01T12:54:44.846Z"
        }
      }
    },
    {
      "cell_type": "markdown",
      "source": [
        "#### 3.3\n",
        "Create a new dictionary called `flexible_phonebook` that has Jenny's number stored as an integer and Ghostbusters' number stored as a string with the following code\n",
        "\n",
        "```julia\n",
        "flexible_phonebook = Dict(\"Jenny\" => 8675309, \"Ghostbusters\" => \"555-2368\")\n",
        "```"
      ],
      "metadata": {}
    },
    {
      "cell_type": "code",
      "source": [
        "flexible_phonebook = Dict(\"Jenny\" => 8675309, \"Ghostbusters\" => \"555-2368\")\n",
        "flexible_phonebook"
      ],
      "outputs": [
        {
          "output_type": "execute_result",
          "execution_count": 77,
          "data": {
            "text/plain": "Dict{String, Any} with 2 entries:\n  \"Jenny\"        => 8675309\n  \"Ghostbusters\" => \"555-2368\""
          },
          "metadata": {}
        }
      ],
      "execution_count": 77,
      "metadata": {
        "collapsed": true,
        "jupyter": {
          "source_hidden": false,
          "outputs_hidden": false
        },
        "nteract": {
          "transient": {
            "deleting": false
          }
        },
        "execution": {
          "iopub.status.busy": "2021-04-01T12:56:42.409Z",
          "iopub.execute_input": "2021-04-01T12:56:42.439Z",
          "iopub.status.idle": "2021-04-01T12:56:43.315Z"
        }
      }
    },
    {
      "cell_type": "code",
      "source": [
        "@assert flexible_phonebook == Dict(\"Jenny\" => 8675309, \"Ghostbusters\" => \"555-2368\")"
      ],
      "outputs": [],
      "execution_count": 78,
      "metadata": {
        "execution": {
          "iopub.status.busy": "2021-04-01T12:56:45.694Z",
          "iopub.execute_input": "2021-04-01T12:56:45.711Z",
          "iopub.status.idle": "2021-04-01T12:56:45.736Z"
        }
      }
    },
    {
      "cell_type": "markdown",
      "source": [
        "#### 3.4\n",
        "Add the key \"Emergency\" with the value `911` (an integer) to `flexible_phonebook`."
      ],
      "metadata": {}
    },
    {
      "cell_type": "code",
      "source": [
        "flexible_phonebook[\"Emergency\"] = 911\n",
        "flexible_phonebook"
      ],
      "outputs": [
        {
          "output_type": "execute_result",
          "execution_count": 81,
          "data": {
            "text/plain": "Dict{String, Any} with 3 entries:\n  \"Jenny\"        => 8675309\n  \"Emergency\"    => 911\n  \"Ghostbusters\" => \"555-2368\""
          },
          "metadata": {}
        }
      ],
      "execution_count": 81,
      "metadata": {
        "collapsed": true,
        "jupyter": {
          "source_hidden": false,
          "outputs_hidden": false
        },
        "nteract": {
          "transient": {
            "deleting": false
          }
        },
        "execution": {
          "iopub.status.busy": "2021-04-01T12:57:58.125Z",
          "iopub.execute_input": "2021-04-01T12:57:58.153Z",
          "iopub.status.idle": "2021-04-01T12:57:58.188Z"
        }
      }
    },
    {
      "cell_type": "code",
      "source": [
        "@assert haskey(flexible_phonebook, \"Emergency\")"
      ],
      "outputs": [],
      "execution_count": 82,
      "metadata": {
        "execution": {
          "iopub.status.busy": "2021-04-01T12:58:14.795Z",
          "iopub.execute_input": "2021-04-01T12:58:14.814Z",
          "iopub.status.idle": "2021-04-01T12:58:14.845Z"
        }
      }
    },
    {
      "cell_type": "code",
      "source": [
        "@assert flexible_phonebook[\"Emergency\"] == 911"
      ],
      "outputs": [],
      "execution_count": 83,
      "metadata": {
        "execution": {
          "iopub.status.busy": "2021-04-01T12:58:19.033Z",
          "iopub.execute_input": "2021-04-01T12:58:19.052Z",
          "iopub.status.idle": "2021-04-01T12:58:19.085Z"
        }
      }
    },
    {
      "cell_type": "markdown",
      "source": [
        "#### 3.5\n",
        "Why can we add an integer as a value to `flexible_phonebook` but not `myphonebook`? How could we have initialized `myphonebook` so that it would accept integers as values?"
      ],
      "metadata": {}
    }
  ],
  "metadata": {
    "language_info": {
      "file_extension": ".jl",
      "name": "julia",
      "mimetype": "application/julia",
      "version": "1.6.0"
    },
    "kernelspec": {
      "name": "julia-1.0",
      "display_name": "Julia 1.0.3",
      "language": "julia"
    },
    "nteract": {
      "version": "0.28.0"
    }
  },
  "nbformat": 4,
  "nbformat_minor": 3
}